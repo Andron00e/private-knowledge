{
 "cells": [
  {
   "cell_type": "markdown",
   "metadata": {},
   "source": [
    "# Label Inference"
   ]
  },
  {
   "cell_type": "code",
   "execution_count": 1,
   "metadata": {
    "tags": []
   },
   "outputs": [],
   "source": [
    "import numpy as np\n",
    "import torch\n",
    "from torchvision import transforms, datasets\n",
    "from torchvision.utils import save_image\n",
    "\n",
    "import unsplit.attacks as unsplit\n",
    "from unsplit.models import *\n",
    "from unsplit.util import *"
   ]
  },
  {
   "cell_type": "markdown",
   "metadata": {},
   "source": [
    "Change the dataset and count values as desired. Dataset can be one of `mnist`, `f_mnist`, or `cifar`. The `count` variable denotes how many examples the attack will run on."
   ]
  },
  {
   "cell_type": "code",
   "execution_count": 8,
   "metadata": {
    "tags": []
   },
   "outputs": [],
   "source": [
    "count = 1000"
   ]
  },
  {
   "cell_type": "code",
   "execution_count": 5,
   "metadata": {
    "tags": []
   },
   "outputs": [
    {
     "name": "stdout",
     "output_type": "stream",
     "text": [
      "Downloading https://www.cs.toronto.edu/~kriz/cifar-10-python.tar.gz to data/cifar/cifar-10-python.tar.gz\n"
     ]
    },
    {
     "name": "stderr",
     "output_type": "stream",
     "text": [
      "100%|███████████████████████| 170498071/170498071 [00:10<00:00, 15667488.64it/s]\n"
     ]
    },
    {
     "name": "stdout",
     "output_type": "stream",
     "text": [
      "Extracting data/cifar/cifar-10-python.tar.gz to data/cifar\n",
      "Files already downloaded and verified\n"
     ]
    }
   ],
   "source": [
    "dataset = 'cifar'\n",
    "\n",
    "if dataset == 'mnist':\n",
    "    trainset = datasets.MNIST('data/mnist', download=True, train=True, transform=transforms.ToTensor())\n",
    "    testset = datasets.MNIST('data/mnist', download=True, train=False, transform=transforms.ToTensor())\n",
    "    client, server, clone = MnistNet(), MnistNet(), MnistNet()\n",
    "    split_layer = 9\n",
    "    grad_index = 8\n",
    "elif dataset == 'f_mnist':\n",
    "    trainset = datasets.FashionMNIST('data/f_mnist', download=True, train=True, transform=transforms.ToTensor())\n",
    "    testset = datasets.FashionMNIST('data/f_mnist', download=True, train=False, transform=transforms.ToTensor())\n",
    "    client, server, clone = MnistNet(), MnistNet(), MnistNet()\n",
    "    split_layer = 9\n",
    "    grad_index = 8\n",
    "elif dataset == 'cifar':\n",
    "    trainset = datasets.CIFAR10('data/cifar', download=True, train=True, transform=transforms.ToTensor())\n",
    "    testset = datasets.CIFAR10('data/cifar', download=True, train=False, transform=transforms.ToTensor())\n",
    "    client, server, clone = CifarNet(), CifarNet(), CifarNet()\n",
    "    split_layer = 16\n",
    "    grad_index = 14\n",
    "\n",
    "trainloader = torch.utils.data.DataLoader(trainset, shuffle=True, batch_size=64)\n",
    "testloader = torch.utils.data.DataLoader(testset, shuffle=True)"
   ]
  },
  {
   "cell_type": "markdown",
   "metadata": {},
   "source": [
    "To launch the attack, we first initialize the necessary variables."
   ]
  },
  {
   "cell_type": "code",
   "execution_count": 6,
   "metadata": {
    "tags": []
   },
   "outputs": [],
   "source": [
    "client_opt = torch.optim.Adam(client.parameters(), lr=0.001, amsgrad=True)\n",
    "server_opt = torch.optim.Adam(server.parameters(), lr=0.001, amsgrad=True)\n",
    "clone_opt = torch.optim.Adam(clone.parameters(), lr=0.001, amsgrad=True)\n",
    "\n",
    "criterion = torch.nn.CrossEntropyLoss()"
   ]
  },
  {
   "cell_type": "markdown",
   "metadata": {},
   "source": [
    "The following cell runs the attack, iterating over the examples. Comments in the code explain the attack in more detail."
   ]
  },
  {
   "cell_type": "code",
   "execution_count": null,
   "metadata": {
    "tags": []
   },
   "outputs": [],
   "source": [
    "results = []\n",
    "for idx, (image, label) in enumerate(testloader):\n",
    "    if idx == count:\n",
    "        break\n",
    "\n",
    "    # enumerate possible label values\n",
    "    label_vals = [i * torch.ones(len(label)).long() for i in range(10)] \n",
    "\n",
    "    # obtain gradient values from client\n",
    "    client_opt.zero_grad()\n",
    "    server_opt.zero_grad()\n",
    "    server_out = server(image, end=split_layer)\n",
    "    pred = client(server_out, start=split_layer+1)\n",
    "    loss = criterion(pred, label)\n",
    "    loss.backward(retain_graph=True)\n",
    "\n",
    "    target_grad = [param.grad for param in client.parameters()][grad_index]\n",
    "\n",
    "    # obtain clone model's output\n",
    "    clone_opt.zero_grad()\n",
    "    clone_pred = clone(server_out, start=split_layer+1)\n",
    "\n",
    "    # try out all possible labels and pick the one that produces the closest gradient values\n",
    "    pred_label = unsplit.label_inference(clone_pred, clone, target_grad, label_vals, grad_index)\n",
    "\n",
    "    results.append(label.item() == pred_label.item())\n",
    "    print(f'Label: {label.item()} - Predicted: {pred_label.item()}')\n",
    "\n",
    "    # perform training updates\n",
    "    clone_loss = criterion(clone_pred, pred_label)\n",
    "    clone_loss.backward()\n",
    "    client_opt.step()\n",
    "    clone_opt.step()\n",
    "    server_opt.step()\n",
    "\n",
    "print('Run complete.')\n",
    "print(f'Label inference accuracy: {sum(results) / count}')"
   ]
  },
  {
   "cell_type": "code",
   "execution_count": null,
   "metadata": {},
   "outputs": [],
   "source": []
  }
 ],
 "metadata": {
  "kernelspec": {
   "display_name": "andronserv",
   "language": "python",
   "name": "andronserv"
  },
  "language_info": {
   "codemirror_mode": {
    "name": "ipython",
    "version": 3
   },
   "file_extension": ".py",
   "mimetype": "text/x-python",
   "name": "python",
   "nbconvert_exporter": "python",
   "pygments_lexer": "ipython3",
   "version": "3.10.13"
  }
 },
 "nbformat": 4,
 "nbformat_minor": 4
}
