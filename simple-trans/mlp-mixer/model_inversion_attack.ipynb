{
 "cells": [
  {
   "cell_type": "code",
   "id": "9fa63963",
   "metadata": {},
   "source": [
    "%load_ext autoreload\n",
    "%autoreload 2"
   ],
   "outputs": [],
   "execution_count": null
  },
  {
   "cell_type": "code",
   "execution_count": 2,
   "id": "initial_id",
   "metadata": {
    "jupyter": {
     "is_executing": true
    },
    "tags": []
   },
   "outputs": [],
   "source": [
    "import sys\n",
    "sys.path.append('../')\n",
    "from unsplit.unsplit.models import MLP, CNN"
   ]
  },
  {
   "cell_type": "code",
   "execution_count": 3,
   "id": "be856fc4c5114ae2",
   "metadata": {},
   "outputs": [],
   "source": [
    "import os\n",
    "import torch\n",
    "os.environ[\"CUDA_DEVICE_ORDER\"]='PCI_BUS_ID'\n",
    "\n",
    "def set_device(device_no: int):\n",
    "    if torch.cuda.is_available():\n",
    "        device = torch.device(f\"cuda:{device_no}\")\n",
    "        print(\"There are %d GPU(s) available.\" % torch.cuda.device_count())\n",
    "        print(\"We will use the GPU:\", torch.cuda.get_device_name(device_no))\n",
    "    else:\n",
    "        print(\"No GPU available, using the CPU instead.\")\n",
    "        device = torch.device(\"cpu\")\n",
    "        \n",
    "    return device"
   ]
  },
  {
   "cell_type": "code",
   "id": "c89402b4",
   "metadata": {},
   "source": [
    "device = set_device(0)"
   ],
   "outputs": [],
   "execution_count": null
  },
  {
   "cell_type": "code",
   "execution_count": 7,
   "id": "e2436e5ca2066345",
   "metadata": {},
   "outputs": [],
   "source": [
    "import unsplit.unsplit.attacks as attacks\n",
    "from unsplit.unsplit.util import *\n",
    "from models import *\n",
    "from tqdm.auto import tqdm\n",
    "import numpy as np"
   ]
  },
  {
   "cell_type": "code",
   "execution_count": 8,
   "id": "7756150f5184c551",
   "metadata": {},
   "outputs": [],
   "source": [
    "dataset_name = \"cifar10\"\n",
    "architecture = \"mlp-mixer\"\n",
    "batch_size = 64\n",
    "\n",
    "n_epochs = 10\n",
    "split_layer = 1"
   ]
  },
  {
   "cell_type": "code",
   "execution_count": 9,
   "id": "cf57ac51d68cfad8",
   "metadata": {},
   "outputs": [],
   "source": [
    "def create_models_and_data(dataset_name=\"mnist\", architecture=\"mlp\", batch_size=64, device=\"cuda:0\", seed=0):\n",
    "    assert dataset_name in [\"mnist\", \"f_mnist\", \"cifar10\"], \"Wrong dataset name. Valid options are 'mnist', 'f_mnist' and 'cifar10'.\"\n",
    "    assert architecture in [\"mlp\", \"cnn\", \"mlp-mixer\"], \"Wrong architecture name. Valid options are 'mlp', 'cnn' and 'mlp-mixer'.\"\n",
    "    dataset_creator = datasets.MNIST if dataset_name == \"mnist\" else datasets.FashionMNIST \\\n",
    "        if dataset_name == \"f_mnist\" else datasets.CIFAR10\n",
    "    model_creator = MLP if architecture == \"mlp\" else CNN if architecture == \"cnn\" else MLPMixer\n",
    "\n",
    "    trainset = dataset_creator(f'data/{dataset_name}', download=True, train=True, transform=transforms.ToTensor())\n",
    "    testset = dataset_creator(f'data/{dataset_name}', download=True, train=False, transform=transforms.ToTensor())\n",
    "\n",
    "    torch.manual_seed(seed)\n",
    "    client, server = model_creator().to(device), model_creator().to(device)\n",
    "    return client, server, trainset, testset"
   ]
  },
  {
   "cell_type": "code",
   "id": "a80d6a967999e048",
   "metadata": {},
   "source": [
    "client, server, trainset, testset = create_models_and_data(dataset_name=dataset_name,\n",
    "                                                           architecture=architecture,\n",
    "                                                           device=device)\n",
    "\n",
    "assert next(client.parameters()).is_cuda == True\n",
    "assert next(server.parameters()).is_cuda == True"
   ],
   "outputs": [],
   "execution_count": null
  },
  {
   "cell_type": "code",
   "execution_count": 11,
   "id": "6ee758b4a328e51e",
   "metadata": {},
   "outputs": [],
   "source": [
    "def train_client_server(client, server, trainset, testset, split_layer, n_epochs=10, device=\"cuda:0\", batch_size=64):\n",
    "    trainloader = torch.utils.data.DataLoader(trainset, shuffle=True, batch_size=64)\n",
    "    testloader = torch.utils.data.DataLoader(testset, shuffle=True, batch_size=64)\n",
    "\n",
    "    client_opt = torch.optim.Adam(client.parameters(), lr=0.001, amsgrad=True)\n",
    "    server_opt = torch.optim.Adam(server.parameters(), lr=0.001, amsgrad=True)\n",
    "    criterion = torch.nn.CrossEntropyLoss()\n",
    "\n",
    "    for epoch in range(n_epochs):\n",
    "        running_loss = 0\n",
    "        for images, labels in tqdm(trainloader):\n",
    "            images, labels = images.to(device), labels.to(device)\n",
    "            client_opt.zero_grad()\n",
    "            server_opt.zero_grad()\n",
    "\n",
    "            client_pred = client(images, end=split_layer)\n",
    "            pred = server(client_pred, start=split_layer+1)\n",
    "\n",
    "            loss = criterion(pred, labels)\n",
    "            loss.backward()\n",
    "            running_loss += loss\n",
    "\n",
    "            server_opt.step()\n",
    "            client_opt.step()\n",
    "        print(f'Epoch: {epoch} Loss: {running_loss / len(trainloader)} Acc: {get_test_acc(client, server, testloader, split=split_layer)}')\n",
    "    return client, server"
   ]
  },
  {
   "cell_type": "code",
   "id": "901fafff084cdd60",
   "metadata": {},
   "source": [
    "client, server = train_client_server(client=client, server=server, trainset=trainset, testset=testset, \n",
    "                                     split_layer=split_layer, n_epochs=10, device=device, batch_size=64)"
   ],
   "outputs": [],
   "execution_count": null
  },
  {
   "cell_type": "code",
   "execution_count": 13,
   "id": "28527ce5",
   "metadata": {},
   "outputs": [],
   "source": [
    "COUNT = 1\n",
    "inversion_targets = [get_examples_by_class(testset, i, count=COUNT).to(device) for i in range(10)]"
   ]
  },
  {
   "cell_type": "code",
   "id": "b2707737",
   "metadata": {},
   "source": [
    "display_cifar(inversion_targets)"
   ],
   "outputs": [],
   "execution_count": null
  },
  {
   "cell_type": "code",
   "execution_count": 19,
   "id": "e8832107",
   "metadata": {},
   "outputs": [],
   "source": [
    "main_iters, input_iters, model_iters = 200, 20, 20\n",
    "lambda_l2, lambda_tv = 0.1, 1.0"
   ]
  },
  {
   "cell_type": "code",
   "execution_count": 25,
   "id": "d2d65566",
   "metadata": {},
   "outputs": [],
   "source": [
    "def launch_attack(inversion_targets, client, split_layer, clone_architecture=\"mlp\",\n",
    "                  main_iters=1000, input_iters=100, model_iters=100,\n",
    "                  lambda_tv=0.1, lambda_l2=1, device=\"cuda:0\"):\n",
    "    assert clone_architecture in [\"mlp\", \"cnn\", \"mlp-mixer\"], \"Wrong architecture name. Valid options are 'mlp' and 'cnn'.\"\n",
    "    clone = MLP() if architecture == \"mlp\" else CNN() if architecture == \"cnn\" else MLPMixer()\n",
    "    mse = torch.nn.MSELoss()\n",
    "\n",
    "    reconstructed_images, reconstruction_losses = [], []\n",
    "    cut_layer_training_losses = []\n",
    "    for idx, target in enumerate(inversion_targets):\n",
    "        # obtain client output\n",
    "        with torch.no_grad():\n",
    "            client_out = client(target, end=split_layer)\n",
    "\n",
    "        # perform the attack\n",
    "        target_size = target.size()\n",
    "        reconstructed, cur_loss_arr = attacks.model_inversion_stealing(\n",
    "            clone, split_layer, client_out, target_size,\n",
    "            main_iters=main_iters, input_iters=input_iters, model_iters=model_iters,\n",
    "            lambda_tv=lambda_tv, lambda_l2=lambda_l2, device=device\n",
    "        )\n",
    "        cut_layer_training_losses.append(cur_loss_arr)\n",
    "\n",
    "        # save result\n",
    "        reconstructed = normalize(reconstructed)\n",
    "        reconstructed_images.append(reconstructed)\n",
    "        reconstruction_loss = mse(reconstructed, target)\n",
    "        reconstruction_losses.append(reconstruction_loss.item())\n",
    "    return clone, reconstructed_images, reconstruction_losses, cut_layer_training_losses"
   ]
  },
  {
   "cell_type": "code",
   "id": "95286d8e",
   "metadata": {},
   "source": [
    "clone, reconstructed_images, reconstruction_losses, cut_layer_training_losses = launch_attack(\n",
    "    inversion_targets, client, split_layer, clone_architecture=architecture,\n",
    "    main_iters=main_iters, input_iters=input_iters, model_iters=model_iters,\n",
    "    lambda_tv=lambda_tv, lambda_l2=lambda_l2, device=device\n",
    ")"
   ],
   "outputs": [],
   "execution_count": null
  },
  {
   "cell_type": "code",
   "id": "13caf83d",
   "metadata": {},
   "source": [
    "display_cifar(inversion_targets)\n",
    "display_cifar(reconstructed_images)"
   ],
   "outputs": [],
   "execution_count": null
  },
  {
   "cell_type": "code",
   "execution_count": null,
   "id": "13ad203a",
   "metadata": {},
   "outputs": [],
   "source": [
    "def compute_metrics(inversion_targets, reconstructed_images,\n",
    "                    reconstruction_losses, cut_layer_training_losses,\n",
    "                    use_fid=False):\n",
    "    reconstruction_mse = np.mean(reconstruction_losses)\n",
    "    cut_layer_mse = np.mean([loss_arr[-1] for loss_arr in cut_layer_training_losses])\n",
    "    print(f\"Recounstruction MSE: {reconstruction_mse:.3f}\")\n",
    "    print(f\"Log10 of cut layer MSE: {np.log10(cut_layer_mse):.3f}\")\n",
    "    if use_fid:\n",
    "        print(f\"FID: {compute_fid(inversion_targets, reconstructed_images):.1f}\")"
   ]
  },
  {
   "metadata": {},
   "cell_type": "code",
   "outputs": [],
   "execution_count": null,
   "source": "compute_metrics(inversion_targets, reconstructed_images, reconstruction_losses, cut_layer_training_losses)",
   "id": "1289136c33379fb2"
  },
  {
   "metadata": {},
   "cell_type": "code",
   "outputs": [],
   "execution_count": null,
   "source": [
    "import matplotlib.pyplot as plt\n",
    "import seaborn as sns\n",
    "\n",
    "sns.set_theme()\n",
    "fig, ax = plt.subplots(1, 2, figsize=(15, 6))\n",
    "cut_layer_mse = np.mean(cut_layer_training_losses, axis=1)\n",
    "markers = ['o','s']\n",
    "titles = [f'Reconstruction MSE',\n",
    "          f'Cut Layer MSE']\n",
    "data = [reconstruction_losses, cut_layer_mse]\n",
    "\n",
    "for i, axis in enumerate(ax):\n",
    "    axis.plot(data[i], linewidth=2, marker=markers[i], markersize=6, markevery=2)\n",
    "    axis.set_xlabel('class', fontsize=30)\n",
    "    axis.set_ylabel('MSE', fontsize=30)\n",
    "    axis.set_title(titles[i], fontsize=30)\n",
    "    axis.grid(True)\n",
    "    axis.tick_params(labelsize=15)\n",
    "\n",
    "plt.subplots_adjust(wspace=0.3)\n",
    "plt.suptitle('MLP-Mixer on CIFAR10, Cut Layer = {}'.format(split_layer), fontsize=35, y=1.05)\n",
    "plt.show()"
   ],
   "id": "5707bb44ebf04d38"
  }
 ],
 "metadata": {
  "kernelspec": {
   "display_name": "andronserv",
   "language": "python",
   "name": "andronserv"
  },
  "language_info": {
   "codemirror_mode": {
    "name": "ipython",
    "version": 3
   },
   "file_extension": ".py",
   "mimetype": "text/x-python",
   "name": "python",
   "nbconvert_exporter": "python",
   "pygments_lexer": "ipython3",
   "version": "3.10.13"
  }
 },
 "nbformat": 4,
 "nbformat_minor": 5
}
